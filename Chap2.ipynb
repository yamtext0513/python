{
  "cells": [
    {
      "cell_type": "markdown",
      "metadata": {
        "id": "Lrfqxo3gDPOw"
      },
      "source": [
        "# Chap2 流程控制"
      ]
    },
    {
      "cell_type": "markdown",
      "metadata": {
        "id": "XYcdpDxmDPOz"
      },
      "source": [
        "## if else , elif"
      ]
    },
    {
      "cell_type": "code",
      "execution_count": null,
      "metadata": {
        "id": "oBQ3XZkADPOz",
        "outputId": "e360b750-58c7-4ba4-ddcc-e110fc90493e"
      },
      "outputs": [
        {
          "name": "stdout",
          "output_type": "stream",
          "text": [
            "b是比較大的數字\n"
          ]
        }
      ],
      "source": [
        "a=3 #if 條件判斷\n",
        "b=4\n",
        "if a <= b:          \n",
        "    print(\"b是比較大的數字\")\n",
        "else:\n",
        "    print(\"a是比較大的數字\")"
      ]
    },
    {
      "cell_type": "markdown",
      "metadata": {
        "id": "ZrHP-NN-DPO1"
      },
      "source": [
        "### 成績評鑑"
      ]
    },
    {
      "cell_type": "code",
      "execution_count": null,
      "metadata": {
        "id": "dRY7ZeaRDPO1",
        "outputId": "fcccf53b-b486-4dc5-8e9d-0bb9e0a56cfb"
      },
      "outputs": [
        {
          "name": "stdout",
          "output_type": "stream",
          "text": [
            "成績評鑑：\n",
            "甲等\n"
          ]
        }
      ],
      "source": [
        "grade=87       #變數為87\n",
        "print(\"成績評鑑：\")\n",
        "if grade >= 90:    #如果>=90 顯示優等\n",
        "    print(\"優等\")\n",
        "elif grade >=80:    #如果>=80 顯示甲等\n",
        "    print(\"甲等\")\n",
        "elif grade >=70:    #如果>=70 顯示乙等\n",
        "    print(\"乙等\")\n",
        "elif grade >=60:    #如果>=60 顯示丙等\n",
        "    print(\"丙等\")\n",
        "else:          #如果不符合以上 顯示不及格\n",
        "    print(\"不及格\")\n"
      ]
    },
    {
      "cell_type": "markdown",
      "metadata": {
        "id": "IdqMPfEqDPO2"
      },
      "source": [
        "## for 迴圈"
      ]
    },
    {
      "cell_type": "code",
      "execution_count": null,
      "metadata": {
        "id": "XAiegBLODPO2",
        "outputId": "609bbf7e-9759-444c-8afa-1f37b38b8c27"
      },
      "outputs": [
        {
          "name": "stdout",
          "output_type": "stream",
          "text": [
            "1+2+3+...+10 = 55\n"
          ]
        }
      ],
      "source": [
        "#1+2+3...+10總和\n",
        "sum = 0\n",
        "for count in range(1, 11, 1): #從1開始，間隔1, 不包含11\n",
        "    sum += count\n",
        "print(\"1+2+3+...+10 =\", sum)   #設sum為總和"
      ]
    },
    {
      "cell_type": "code",
      "execution_count": null,
      "metadata": {
        "id": "xfIrfZOBDPO3",
        "outputId": "a4dcb90f-c446-4740-f985-90259711a22d"
      },
      "outputs": [
        {
          "name": "stdout",
          "output_type": "stream",
          "text": [
            "1+2+3+...+10 = 55\n"
          ]
        }
      ],
      "source": [
        "#range另外一種寫法\n",
        "#1+2+3...+10總和\n",
        "sum = 0\n",
        "for count in range(11): #1-10, 不包含11\n",
        "    sum += count\n",
        "print(\"1+2+3+...+10 =\", sum)"
      ]
    },
    {
      "cell_type": "code",
      "execution_count": null,
      "metadata": {
        "id": "BAWBQtI8DPO3",
        "outputId": "eafb144f-793f-49f0-e030-ddc4d76a8167"
      },
      "outputs": [
        {
          "name": "stdout",
          "output_type": "stream",
          "text": [
            "f\n",
            "o\n",
            "r\n",
            " \n",
            "s\n",
            "t\n",
            "a\n",
            "t\n",
            "e\n",
            "m\n",
            "e\n",
            "n\n",
            "t\n",
            "end list\n"
          ]
        }
      ],
      "source": [
        "mylist=\"for statement\"\n",
        "for c in mylist:  #印出字串\n",
        "    print(c)\n",
        "print(\"end list\")"
      ]
    },
    {
      "cell_type": "code",
      "execution_count": null,
      "metadata": {
        "id": "LCZ7paEjDPO4",
        "outputId": "59ed86be-e3a1-47b0-d2f1-82db84538b14"
      },
      "outputs": [
        {
          "name": "stdout",
          "output_type": "stream",
          "text": [
            "Java\n",
            "C#\n",
            "Python\n"
          ]
        }
      ],
      "source": [
        "for pl in [\"Java\", \"C#\", \"Python\"]:\n",
        "    print(pl)"
      ]
    },
    {
      "cell_type": "markdown",
      "metadata": {
        "id": "LahuEA78DPO4"
      },
      "source": [
        "### 雞兔同籠，若共有35個頭，94隻腳，請問有幾隻雞?幾隻兔?"
      ]
    },
    {
      "cell_type": "code",
      "execution_count": null,
      "metadata": {
        "id": "ROb1sDOGDPO5",
        "outputId": "8382576e-7d88-4a57-deb4-917bb77dc67c"
      },
      "outputs": [
        {
          "name": "stdout",
          "output_type": "stream",
          "text": [
            "雞有 23 隻,兔子有 12 隻\n"
          ]
        }
      ],
      "source": [
        "for chicken in range(0,36):\n",
        "    rabbit=35-chicken\n",
        "    if (2*chicken+4*rabbit) == 94:\n",
        "        print(\"雞有\",chicken,\"隻,兔子有\",rabbit,\"隻\")\n",
        "        break\n",
        "else:\n",
        "    print(\"無解\")"
      ]
    },
    {
      "cell_type": "markdown",
      "metadata": {
        "id": "Gb3K2DS2DPO5"
      },
      "source": [
        "## while迴圈"
      ]
    },
    {
      "cell_type": "code",
      "execution_count": null,
      "metadata": {
        "id": "5C52bjjkDPO5",
        "outputId": "5db3cdc3-2da9-4a9a-9237-42a9353fd5d2"
      },
      "outputs": [
        {
          "name": "stdout",
          "output_type": "stream",
          "text": [
            "1+2+3+...+10= 55\n"
          ]
        }
      ],
      "source": [
        "sum=0         #如果符合會一直執行\n",
        "count=1\n",
        "while count <=10:\n",
        "    sum += count\n",
        "    count += 1\n",
        "print(\"1+2+3+...+10=\",sum)"
      ]
    },
    {
      "cell_type": "markdown",
      "metadata": {
        "id": "FRCcgBhbDPO6"
      },
      "source": [
        "### 本金10000元，定存年利率0.6%，請問多久銀行存款會翻倍"
      ]
    },
    {
      "cell_type": "code",
      "execution_count": null,
      "metadata": {
        "id": "sfcXK2QjDPO6",
        "outputId": "b5aed5b3-c755-4504-f2d6-51e137e13761"
      },
      "outputs": [
        {
          "name": "stdout",
          "output_type": "stream",
          "text": [
            "116 年以後，存款加倍，為 20015 元\n"
          ]
        }
      ],
      "source": [
        "x=10000\n",
        "years=0\n",
        "while x <= 20000:\n",
        "    x=x*1.006\n",
        "    years += 1\n",
        "print(str(years), \"年以後，存款加倍，為\", int(x),\"元\")"
      ]
    },
    {
      "cell_type": "markdown",
      "metadata": {
        "id": "lkNDultJDPO6"
      },
      "source": [
        "### 帳號密碼判斷"
      ]
    },
    {
      "cell_type": "code",
      "execution_count": null,
      "metadata": {
        "id": "XLEL_PjEDPO6",
        "outputId": "238355ac-20e3-4a64-9940-8a3e95ed39b7"
      },
      "outputs": [
        {
          "name": "stdout",
          "output_type": "stream",
          "text": [
            "請輸入帳號：sa;djf\n",
            "請輸入密碼：adsjf;a\n",
            "帳號或密碼輸入錯誤\n",
            "請輸入帳號：tony\n",
            "請輸入密碼：asdf\n",
            "帳號或密碼輸入錯誤\n",
            "請輸入帳號：asdf\n",
            "請輸入密碼：1234\n",
            "帳號或密碼輸入錯誤\n",
            "請輸入帳號：tony\n",
            "請輸入密碼：1234\n",
            "歡迎登入\n"
          ]
        }
      ],
      "source": [
        "id=\"tony\"\n",
        "pwd=\"1234\"\n",
        "while True:\n",
        "    x=input(\"請輸入帳號：\")\n",
        "    y=input(\"請輸入密碼：\")\n",
        "    if (x==id and y==pwd):\n",
        "        print(\"歡迎登入\")\n",
        "        break\n",
        "    else:\n",
        "        print(\"帳號或密碼輸入錯誤\")"
      ]
    },
    {
      "cell_type": "markdown",
      "metadata": {
        "id": "Q2s11XRkDPO7"
      },
      "source": [
        "## 亂數"
      ]
    },
    {
      "cell_type": "code",
      "execution_count": null,
      "metadata": {
        "id": "bSF-zh-yDPO7",
        "outputId": "0274be49-b02c-4d72-9e74-90c299108edc"
      },
      "outputs": [
        {
          "name": "stdout",
          "output_type": "stream",
          "text": [
            "6\n",
            "5\n",
            "7\n",
            "5\n",
            "9\n",
            "2\n",
            "9\n",
            "1\n",
            "9\n",
            "2\n"
          ]
        }
      ],
      "source": [
        "import random   #亂數\n",
        "for i in range(0,10):#亂數為0~10\n",
        "    print(random.randint(1,9))"
      ]
    },
    {
      "cell_type": "markdown",
      "metadata": {
        "id": "_9SLqRleDPO7"
      },
      "source": [
        "### 猜數字"
      ]
    },
    {
      "cell_type": "code",
      "execution_count": null,
      "metadata": {
        "id": "UlCYKjONDPO7",
        "outputId": "8546e6ea-c622-49c2-c845-3f64b4d65605"
      },
      "outputs": [
        {
          "name": "stdout",
          "output_type": "stream",
          "text": [
            "請輸入1~20之間的數字-->10\n",
            "你猜錯了\n",
            "請輸入1~20之間的數字-->9\n",
            "你猜錯了\n",
            "請輸入1~20之間的數字-->8\n",
            "你猜錯了\n",
            "請輸入1~20之間的數字-->7\n",
            "你猜錯了\n",
            "請輸入1~20之間的數字-->6\n",
            "你猜錯了\n",
            "請輸入1~20之間的數字-->5\n",
            "你猜錯了\n",
            "請輸入1~20之間的數字-->4\n",
            "你猜錯了\n",
            "請輸入1~20之間的數字-->3\n",
            "你猜錯了\n",
            "請輸入1~20之間的數字-->2\n",
            "你猜錯了\n",
            "請輸入1~20之間的數字-->1\n",
            "你猜錯了\n",
            "請輸入1~20之間的數字-->11\n",
            "你猜錯了\n",
            "請輸入1~20之間的數字-->12\n",
            "你猜錯了\n",
            "請輸入1~20之間的數字-->13\n",
            "你猜對了，數字是 13\n"
          ]
        }
      ],
      "source": [
        "import random\n",
        "number=random.randint(1,20)\n",
        "while True:\n",
        "    guess=int(input(\"請輸入1~20之間的數字-->\"))\n",
        "    if guess == number:\n",
        "        print(\"你猜對了，數字是\", number)\n",
        "        break\n",
        "    else:\n",
        "        print(\"你猜錯了\")"
      ]
    },
    {
      "cell_type": "code",
      "execution_count": null,
      "metadata": {
        "collapsed": true,
        "id": "uXznnxQLDPO7"
      },
      "outputs": [],
      "source": [
        ""
      ]
    }
  ],
  "metadata": {
    "kernelspec": {
      "display_name": "Python 3",
      "language": "python",
      "name": "python3"
    },
    "language_info": {
      "codemirror_mode": {
        "name": "ipython",
        "version": 3
      },
      "file_extension": ".py",
      "mimetype": "text/x-python",
      "name": "python",
      "nbconvert_exporter": "python",
      "pygments_lexer": "ipython3",
      "version": "3.6.3"
    },
    "colab": {
      "name": "Chap2.ipynb",
      "provenance": []
    }
  },
  "nbformat": 4,
  "nbformat_minor": 0
}